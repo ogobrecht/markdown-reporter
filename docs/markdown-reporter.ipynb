{
 "cells": [
  {
   "cell_type": "markdown",
   "metadata": {
    "collapsed": true
   },
   "source": [
    "# Chart Development for Markdown Reporter\n",
    "\n",
    "https://www.datacamp.com/community/tutorials/pandas-tutorial-dataframe-python  \n",
    "http://stackoverflow.com/questions/6774086/why-is-my-xlabel-cut-off-in-my-matplotlib-plot  "
   ]
  },
  {
   "cell_type": "markdown",
   "metadata": {
    "collapsed": true
   },
   "source": [
    "## Initialization"
   ]
  },
  {
   "cell_type": "code",
   "execution_count": null,
   "metadata": {
    "collapsed": false
   },
   "outputs": [],
   "source": [
    "%matplotlib inline\n",
    "from io import StringIO\n",
    "#from matplotlib import rcParams\n",
    "#rcParams.update({'figure.autolayout': True})\n",
    "import matplotlib.pyplot as plt\n",
    "import pandas as pd\n",
    "import seaborn as sns\n",
    "sns.set(style='ticks', palette='Set2')\n",
    "from matplotlib.ticker import FuncFormatter\n",
    "import locale"
   ]
  },
  {
   "cell_type": "markdown",
   "metadata": {
    "collapsed": true
   },
   "source": [
    "## Read The Data\n",
    "\n",
    "We simulate here data from a code block, which was already fetched from the database with the help of the package markdown_reporter. You can see here what is done by pandas - it has transformed the data and built an index for the date."
   ]
  },
  {
   "cell_type": "code",
   "execution_count": null,
   "metadata": {
    "collapsed": false
   },
   "outputs": [],
   "source": [
    "df = pd.read_csv(StringIO(\n",
    "\"\"\"\n",
    "Population Development,New York,Rio,Tokio\n",
    "1940,7454995,1759277,6778804\n",
    "1950,7891957,2375280,5385071\n",
    "1960,7781984,3300431,8310027\n",
    "1970,7895563,4251918,8840942\n",
    "1980,7071639,5090723,8351893\n",
    "1990,7322564,5480768,8163573\n",
    "2000,8008278,5857904,8134688\n",
    "2010,8175133,6320446,8980768\n",
    "\"\"\"\n",
    "), index_col=0, parse_dates=True)\n",
    "df.transpose()\n",
    "df"
   ]
  },
  {
   "cell_type": "markdown",
   "metadata": {},
   "source": [
    "## Line"
   ]
  },
  {
   "cell_type": "code",
   "execution_count": null,
   "metadata": {
    "collapsed": false
   },
   "outputs": [],
   "source": [
    "df.plot.line(subplots=False, figsize=(9, 6), legend=True)\n",
    "sns.despine()"
   ]
  },
  {
   "cell_type": "markdown",
   "metadata": {},
   "source": [
    "## Area"
   ]
  },
  {
   "cell_type": "code",
   "execution_count": null,
   "metadata": {
    "collapsed": false
   },
   "outputs": [],
   "source": [
    "df.plot.area(subplots=False, figsize=(9, 6), legend=True, stacked=False)\n",
    "sns.despine()"
   ]
  },
  {
   "cell_type": "markdown",
   "metadata": {},
   "source": [
    "## Area Stacked"
   ]
  },
  {
   "cell_type": "code",
   "execution_count": null,
   "metadata": {
    "collapsed": false
   },
   "outputs": [],
   "source": [
    "ax = df.plot.area(subplots=False, figsize=(9, 6), legend=True)\n",
    "#ax.get_yaxis().get_major_formatter().set_scientific(False)\n",
    "#locale.setlocale(locale.LC_NUMERIC,'en')\n",
    "#ax.yaxis.set_major_formatter(FuncFormatter(lambda x,pos: locale.format(\"%.0f\", x, grouping=True)))\n",
    "sns.despine()"
   ]
  },
  {
   "cell_type": "markdown",
   "metadata": {},
   "source": [
    "## Bar\n",
    "\n",
    "http://stackoverflow.com/questions/23088241/formatting-datetime-xlabels-in-matplotlib-pandas-df-plot-method  \n",
    "http://stackoverflow.com/questions/19410617/unable-to-adjust-x-axis-dateformat-in-pandas-bar-chart"
   ]
  },
  {
   "cell_type": "code",
   "execution_count": null,
   "metadata": {
    "collapsed": false,
    "scrolled": false
   },
   "outputs": [],
   "source": [
    "ax = df.plot.bar(subplots=False, figsize=(9, 6), legend=True)\n",
    "ax.set_xticklabels([dt.strftime('%Y') for dt in df.index.to_pydatetime()])\n",
    "sns.despine()"
   ]
  },
  {
   "cell_type": "markdown",
   "metadata": {},
   "source": [
    "## Bar Stacked"
   ]
  },
  {
   "cell_type": "code",
   "execution_count": null,
   "metadata": {
    "collapsed": false,
    "scrolled": true
   },
   "outputs": [],
   "source": [
    "ax = df.plot.bar(subplots=False, figsize=(9, 6), legend=True, stacked=True)\n",
    "ax.set_xticklabels([dt.strftime('%Y') for dt in df.index.to_pydatetime()])\n",
    "sns.despine()"
   ]
  },
  {
   "cell_type": "markdown",
   "metadata": {},
   "source": [
    "## Bar Horizontal"
   ]
  },
  {
   "cell_type": "code",
   "execution_count": null,
   "metadata": {
    "collapsed": false
   },
   "outputs": [],
   "source": [
    "ax = df.plot.barh(subplots=False, figsize=(9, 6), legend=True)\n",
    "ax.set_yticklabels([dt.strftime('%Y') for dt in df.index.to_pydatetime()])\n",
    "sns.despine()"
   ]
  },
  {
   "cell_type": "markdown",
   "metadata": {},
   "source": [
    "## Bar Horizontal Stacked"
   ]
  },
  {
   "cell_type": "code",
   "execution_count": null,
   "metadata": {
    "collapsed": false
   },
   "outputs": [],
   "source": [
    "ax = df.plot.barh(subplots=False, figsize=(9, 6), legend=True, stacked=True)\n",
    "ax.set_yticklabels([dt.strftime('%Y') for dt in df.index.to_pydatetime()])\n",
    "sns.despine()"
   ]
  },
  {
   "cell_type": "markdown",
   "metadata": {},
   "source": [
    "## Read The Data\n",
    "\n",
    "For a pie chart we need to deliver the data in an other format. Pandas is capable to do many transformations on the data frame, but since we build here more generic charts we expect the data in the right form from the query. For a pie chart it would be enough to deliver one data column. If you look in the attributes of `df.plot.pie` there is `y=0` - this means we use the first data column for the chart - 1940. With `y=7` we could also use the data from 2010."
   ]
  },
  {
   "cell_type": "code",
   "execution_count": null,
   "metadata": {
    "collapsed": false
   },
   "outputs": [],
   "source": [
    "df = pd.read_csv(StringIO(\n",
    "\"\"\"\n",
    "Population Development,1940,1950,1960,1970,1980,1990,2000,2010\n",
    "New York,7454995,7891957,7781984,7895563,7071639,7322564,8008278,8175133\n",
    "Rio,1759277,2375280,3300431,4251918,5090723,5480768,5857904,6320446\n",
    "Tokio,6778804,5385071,8310027,8840942,8351893,8163573,8134688,8980768\n",
    "\"\"\"\n",
    "), index_col=0, parse_dates=True)\n",
    "df"
   ]
  },
  {
   "cell_type": "code",
   "execution_count": null,
   "metadata": {
    "collapsed": false
   },
   "outputs": [],
   "source": [
    "df.plot.pie(y=0, figsize=(6, 6), autopct='%.1f', legend=False)\n",
    "sns.despine()"
   ]
  },
  {
   "cell_type": "markdown",
   "metadata": {},
   "source": [
    "## Show supported export formats"
   ]
  },
  {
   "cell_type": "code",
   "execution_count": null,
   "metadata": {
    "collapsed": false
   },
   "outputs": [],
   "source": [
    "plt.figure().canvas.get_supported_filetypes()"
   ]
  }
 ],
 "metadata": {
  "kernelspec": {
   "display_name": "Python 3",
   "language": "python",
   "name": "python3"
  },
  "language_info": {
   "codemirror_mode": {
    "name": "ipython",
    "version": 3
   },
   "file_extension": ".py",
   "mimetype": "text/x-python",
   "name": "python",
   "nbconvert_exporter": "python",
   "pygments_lexer": "ipython3",
   "version": "3.5.2"
  }
 },
 "nbformat": 4,
 "nbformat_minor": 0
}
